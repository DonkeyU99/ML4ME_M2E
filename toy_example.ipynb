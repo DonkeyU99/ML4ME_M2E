{
 "cells": [
  {
   "cell_type": "code",
   "execution_count": 7,
   "metadata": {},
   "outputs": [],
   "source": [
    "##Toy example for Deblur ML\n",
    "import numpy as np\n",
    "import random\n",
    "import matplotlib.pyplot as plt"
   ]
  },
  {
   "cell_type": "code",
   "execution_count": 8,
   "metadata": {},
   "outputs": [],
   "source": [
    "##3x3 example\n",
    "N = 10000\n",
    "\n",
    "seed = random.seed(1)\n",
    "\n",
    "###randomly created images of shape 3x3\n",
    "before = np.random.rand(N,3,3)\n",
    "before_pad = np.pad(before,((0,0),(1,1),(1,1)))\n",
    "after = np.zeros((N,3,3))\n",
    "##blur image using 2x2  avg filter\n",
    "for i in range(3):\n",
    "    for j in range(3):\n",
    "        after[:,i,j] = np.sum(before_pad[:,i:i+2,j:j+2].reshape(N,-1),axis=1)\n",
    "        if(i==1):\n",
    "            if(j==1):\n",
    "                after[:,i,j] /=9.\n",
    "            else:\n",
    "                after[:,i,j] /=6.\n",
    "        else:\n",
    "            if(j==1):\n",
    "                after[:,i,j] /=6.\n",
    "            else:\n",
    "                after[:,i,j] /=4."
   ]
  },
  {
   "cell_type": "code",
   "execution_count": 9,
   "metadata": {},
   "outputs": [
    {
     "data": {
      "text/plain": [
       "array([[[0.32314029, 0.91211936, 0.81941165],\n",
       "        [0.02379042, 0.23460108, 0.65220364],\n",
       "        [0.5880293 , 0.6020758 , 0.71713611]],\n",
       "\n",
       "       [[0.1186338 , 0.58097452, 0.85948391],\n",
       "        [0.99911881, 0.33504293, 0.87978926],\n",
       "        [0.72810503, 0.2324387 , 0.90939603]],\n",
       "\n",
       "       [[0.35023437, 0.87342527, 0.14254299],\n",
       "        [0.47177055, 0.27620334, 0.90230514],\n",
       "        [0.38384081, 0.19325178, 0.02016022]],\n",
       "\n",
       "       ...,\n",
       "\n",
       "       [[0.65584957, 0.62565028, 0.7726616 ],\n",
       "        [0.63556811, 0.5963646 , 0.81241253],\n",
       "        [0.55780685, 0.96240591, 0.37090432]],\n",
       "\n",
       "       [[0.18082791, 0.58021635, 0.94678305],\n",
       "        [0.97694131, 0.06081022, 0.69464668],\n",
       "        [0.72564873, 0.76145109, 0.33836859]],\n",
       "\n",
       "       [[0.57958577, 0.40749076, 0.14570886],\n",
       "        [0.94611   , 0.50943431, 0.55711337],\n",
       "        [0.10552038, 0.23180505, 0.41043758]]])"
      ]
     },
     "execution_count": 9,
     "metadata": {},
     "output_type": "execute_result"
    }
   ],
   "source": [
    "before"
   ]
  },
  {
   "cell_type": "code",
   "execution_count": 10,
   "metadata": {},
   "outputs": [
    {
     "data": {
      "text/plain": [
       "array([[[0.08078507, 0.20587661, 0.43288275],\n",
       "        [0.05782179, 0.16596124, 0.43638929],\n",
       "        [0.15295493, 0.2414161 , 0.55150416]],\n",
       "\n",
       "       [[0.02965845, 0.11660139, 0.36011461],\n",
       "        [0.1862921 , 0.22597445, 0.44254844],\n",
       "        [0.43180596, 0.38245091, 0.58916673]],\n",
       "\n",
       "       [[0.08755859, 0.20394327, 0.25399206],\n",
       "        [0.13700082, 0.21907039, 0.36574612],\n",
       "        [0.21390284, 0.22084441, 0.34798012]],\n",
       "\n",
       "       ...,\n",
       "\n",
       "       [[0.16396239, 0.21358331, 0.34957797],\n",
       "        [0.21523628, 0.27927028, 0.46784817],\n",
       "        [0.29834374, 0.45869091, 0.68552184]],\n",
       "\n",
       "       [[0.04520698, 0.12684071, 0.38174985],\n",
       "        [0.19296154, 0.1998662 , 0.38040938],\n",
       "        [0.42564751, 0.42080856, 0.46381914]],\n",
       "\n",
       "       [[0.14489644, 0.16451275, 0.13829991],\n",
       "        [0.25428263, 0.27140232, 0.26995788],\n",
       "        [0.26290759, 0.29881162, 0.42719758]]])"
      ]
     },
     "execution_count": 10,
     "metadata": {},
     "output_type": "execute_result"
    }
   ],
   "source": [
    "after"
   ]
  },
  {
   "cell_type": "markdown",
   "metadata": {},
   "source": [
    "Want to show input after, is recovered to output before"
   ]
  },
  {
   "cell_type": "code",
   "execution_count": 11,
   "metadata": {},
   "outputs": [
    {
     "data": {
      "text/plain": [
       "<matplotlib.image.AxesImage at 0x136a84fd0>"
      ]
     },
     "execution_count": 11,
     "metadata": {},
     "output_type": "execute_result"
    },
    {
     "data": {
      "image/png": "[encoded data removed]",
      "text/plain": [
       "<Figure size 640x480 with 1 Axes>"
      ]
     },
     "metadata": {},
     "output_type": "display_data"
    },
    {
     "data": {
      "image/png": "[encoded data removed]",
      "text/plain": [
       "<Figure size 640x480 with 1 Axes>"
      ]
     },
     "metadata": {},
     "output_type": "display_data"
    }
   ],
   "source": [
    "plt.figure(0)\n",
    "plot_idx = 1\n",
    "plt.imshow(before[plot_idx],cmap='gray')\n",
    "plt.figure(1)\n",
    "plt.imshow(after[plot_idx],cmap='gray')\n",
    "###plt \n",
    "\n",
    "###plt.quiver로 화살표 만들어보기"
   ]
  },
  {
   "cell_type": "code",
   "execution_count": null,
   "metadata": {},
   "outputs": [],
   "source": []
  }
 ],
 "metadata": {
  "kernelspec": {
   "display_name": "kl",
   "language": "python",
   "name": "python3"
  },
  "language_info": {
   "codemirror_mode": {
    "name": "ipython",
    "version": 3
   },
   "file_extension": ".py",
   "mimetype": "text/x-python",
   "name": "python",
   "nbconvert_exporter": "python",
   "pygments_lexer": "ipython3",
   "version": "3.10.12"
  },
  "orig_nbformat": 4
 },
 "nbformat": 4,
 "nbformat_minor": 2
}
