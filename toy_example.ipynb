{
 "cells": [
  {
   "cell_type": "code",
   "execution_count": 1,
   "metadata": {},
   "outputs": [],
   "source": [
    "##Toy example for Deblur ML\n",
    "import numpy as np\n",
    "import random\n",
    "import matplotlib.pyplot as plt"
   ]
  },
  {
   "cell_type": "code",
   "execution_count": 12,
   "metadata": {},
   "outputs": [],
   "source": [
    "##3x3 example\n",
    "N = 100000\n",
    "\n",
    "seed = random.seed(1)\n",
    "\n",
    "###randomly created images of shape 3x3\n",
    "before = np.random.rand(N,3,3)\n",
    "before_pad = np.pad(before,((0,0),(1,1),(1,1)))\n",
    "after = np.zeros((N,3,3))\n",
    "##blur image using 2x2  avg filter\n",
    "for i in range(3):\n",
    "    for j in range(3):\n",
    "        after[:,i,j] = np.sum(before_pad[:,i:i+2,j:j+2].reshape(N,-1),axis=1)\n",
    "        if(i==1):\n",
    "            if(j==1):\n",
    "                after[:,i,j] /=4.\n",
    "            else:\n",
    "                after[:,i,j] /=2.\n",
    "        else:\n",
    "            if(j==1):\n",
    "                after[:,i,j] /=2.\n",
    "            else:\n",
    "                after[:,i,j] /=1."
   ]
  },
  {
   "cell_type": "code",
   "execution_count": 13,
   "metadata": {},
   "outputs": [
    {
     "data": {
      "text/plain": [
       "array([[[0.72230244, 0.45750611, 0.42962829],\n",
       "        [0.90403867, 0.02597927, 0.07805716],\n",
       "        [0.40147668, 0.97133557, 0.98180236]],\n",
       "\n",
       "       [[0.4760847 , 0.16530669, 0.31243657],\n",
       "        [0.36896257, 0.74764477, 0.17654328],\n",
       "        [0.21665877, 0.27279726, 0.39561872]],\n",
       "\n",
       "       [[0.22918496, 0.19712152, 0.27551868],\n",
       "        [0.38480155, 0.11111723, 0.62663107],\n",
       "        [0.90713585, 0.13356348, 0.30818976]],\n",
       "\n",
       "       ...,\n",
       "\n",
       "       [[0.81723002, 0.75946932, 0.81989017],\n",
       "        [0.47936784, 0.12846948, 0.11158919],\n",
       "        [0.90088687, 0.32003309, 0.66955248]],\n",
       "\n",
       "       [[0.04624742, 0.43629998, 0.83528738],\n",
       "        [0.81262973, 0.79829294, 0.2256792 ],\n",
       "        [0.72383859, 0.82732542, 0.92904343]],\n",
       "\n",
       "       [[0.4727671 , 0.02556014, 0.95391279],\n",
       "        [0.18601511, 0.27691229, 0.46029779],\n",
       "        [0.65704065, 0.28206493, 0.85188291]]])"
      ]
     },
     "execution_count": 13,
     "metadata": {},
     "output_type": "execute_result"
    }
   ],
   "source": [
    "before"
   ]
  },
  {
   "cell_type": "code",
   "execution_count": 14,
   "metadata": {},
   "outputs": [
    {
     "data": {
      "text/plain": [
       "array([[[0.72230244, 0.58990427, 0.8871344 ],\n",
       "        [0.81317055, 0.52745662, 0.49558542],\n",
       "        [1.30551534, 1.15141509, 2.05717436]],\n",
       "\n",
       "       [[0.4760847 , 0.3206957 , 0.47774326],\n",
       "        [0.42252363, 0.43949968, 0.70096565],\n",
       "        [0.58562133, 0.80303168, 1.59260403]],\n",
       "\n",
       "       [[0.22918496, 0.21315324, 0.4726402 ],\n",
       "        [0.30699326, 0.23055632, 0.60519425],\n",
       "        [1.2919374 , 0.76830905, 1.17950154]],\n",
       "\n",
       "       ...,\n",
       "\n",
       "       [[0.81723002, 0.78834967, 1.57935949],\n",
       "        [0.64829893, 0.54613416, 0.90970908],\n",
       "        [1.38025471, 0.91437864, 1.22964424]],\n",
       "\n",
       "       [[0.04624742, 0.2412737 , 1.27158736],\n",
       "        [0.42943858, 0.52336752, 1.14777975],\n",
       "        [1.53646832, 1.58104334, 2.78034099]],\n",
       "\n",
       "       [[0.4727671 , 0.24916362, 0.97947293],\n",
       "        [0.3293911 , 0.24031366, 0.8583415 ],\n",
       "        [0.84305576, 0.70101649, 1.87115792]]])"
      ]
     },
     "execution_count": 14,
     "metadata": {},
     "output_type": "execute_result"
    }
   ],
   "source": [
    "after"
   ]
  },
  {
   "cell_type": "markdown",
   "metadata": {},
   "source": [
    "Want to show input after, is recovered to output before"
   ]
  },
  {
   "cell_type": "code",
   "execution_count": 5,
   "metadata": {},
   "outputs": [
    {
     "data": {
      "text/plain": [
       "<matplotlib.image.AxesImage at 0x12a36b970>"
      ]
     },
     "execution_count": 5,
     "metadata": {},
     "output_type": "execute_result"
    },
    {
     "data": {
      "image/png": "[encoded data removed]",
      "text/plain": [
       "<Figure size 640x480 with 1 Axes>"
      ]
     },
     "metadata": {},
     "output_type": "display_data"
    },
    {
     "data": {
      "image/png": "[encoded data removed]",
      "text/plain": [
       "<Figure size 640x480 with 1 Axes>"
      ]
     },
     "metadata": {},
     "output_type": "display_data"
    }
   ],
   "source": [
    "plt.figure(0)\n",
    "plot_idx = 1\n",
    "plt.imshow(before[plot_idx],cmap='gray')\n",
    "plt.figure(1)\n",
    "plt.imshow(after[plot_idx],cmap='gray')\n",
    "###plt \n",
    "\n",
    "###plt.quiver로 화살표 만들어보기"
   ]
  },
  {
   "cell_type": "code",
   "execution_count": null,
   "metadata": {},
   "outputs": [],
   "source": [
    "#############\n",
    "##Training Time\n",
    "##Input :  Before, After, Kernel\n",
    "\n",
    "##정해진 Prior가 있다\n",
    "#1: 그 Kernel들을 prior distribution으로 maximum likelihood\n",
    "#2: Original Image Prior \n",
    "#2: Image Likelihood Training -> 설계해야함 \n",
    "\n",
    "#Inference\n",
    "#input: After\n",
    "###공식 그대로 적용\n",
    "##문제는 Optimal 을 어떻게 찾음? -> 이 알고리즘을 찾아야함\n"
   ]
  }
 ],
 "metadata": {
  "kernelspec": {
   "display_name": "kl",
   "language": "python",
   "name": "python3"
  },
  "language_info": {
   "codemirror_mode": {
    "name": "ipython",
    "version": 3
   },
   "file_extension": ".py",
   "mimetype": "text/x-python",
   "name": "python",
   "nbconvert_exporter": "python",
   "pygments_lexer": "ipython3",
   "version": "3.10.12"
  },
  "orig_nbformat": 4
 },
 "nbformat": 4,
 "nbformat_minor": 2
}
