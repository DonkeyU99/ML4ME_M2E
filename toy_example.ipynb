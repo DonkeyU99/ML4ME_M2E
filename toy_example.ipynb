{
 "cells": [
  {
   "cell_type": "code",
   "execution_count": 90,
   "metadata": {},
   "outputs": [],
   "source": [
    "##Toy example for Deblur ML\n",
    "import numpy as np\n",
    "import random\n",
    "import matplotlib.pyplot as plt"
   ]
  },
  {
   "cell_type": "code",
   "execution_count": 91,
   "metadata": {},
   "outputs": [],
   "source": [
    "##2x2 example\n",
    "N = 10000\n",
    "\n",
    "seed = random.seed(1)\n",
    "\n",
    "###randomly created images of shape 3x3\n",
    "before = np.random.rand(N,3,3)\n",
    "before_pad = np.pad(before,((0,0),(1,1),(1,1)))\n",
    "after = np.zeros((N,3,3))\n",
    "##blur image using 2x2  avg filter\n",
    "for i in range(3):\n",
    "    for j in range(3):\n",
    "        after[:,i,j] = np.sum(before_pad[:,i:i+2,j:j+2].reshape(N,-1),axis=1)\n",
    "        if(i==1):\n",
    "            if(j==1):\n",
    "                after[:,i,j] /=9\n",
    "            else:\n",
    "                after[:,i,j] /=6\n",
    "        else:\n",
    "            if(j==1):\n",
    "                after[:,i,j] /=6\n",
    "            else:\n",
    "                after[:,i,j] /=4"
   ]
  },
  {
   "cell_type": "code",
   "execution_count": 92,
   "metadata": {},
   "outputs": [
    {
     "data": {
      "text/plain": [
       "array([[[0.47568579, 0.57433181, 0.98635258],\n",
       "        [0.79158277, 0.02404673, 0.10063219],\n",
       "        [0.23293877, 0.30795514, 0.28217719]],\n",
       "\n",
       "       [[0.89079905, 0.13799832, 0.61977969],\n",
       "        [0.98529624, 0.01173808, 0.64486525],\n",
       "        [0.06477568, 0.33225389, 0.7281757 ]],\n",
       "\n",
       "       [[0.04061227, 0.98338369, 0.82795696],\n",
       "        [0.19378462, 0.61513209, 0.99939792],\n",
       "        [0.50598286, 0.38534287, 0.77581276]],\n",
       "\n",
       "       ...,\n",
       "\n",
       "       [[0.76247173, 0.04871312, 0.15657693],\n",
       "        [0.6932029 , 0.20011455, 0.36857467],\n",
       "        [0.57386708, 0.84380984, 0.78219829]],\n",
       "\n",
       "       [[0.64677058, 0.48335655, 0.37009773],\n",
       "        [0.67844393, 0.6219519 , 0.57806554],\n",
       "        [0.47813247, 0.35290132, 0.54034956]],\n",
       "\n",
       "       [[0.17291746, 0.4244229 , 0.51402726],\n",
       "        [0.33512888, 0.18549888, 0.36308252],\n",
       "        [0.73280639, 0.4454385 , 0.8301485 ]]])"
      ]
     },
     "execution_count": 92,
     "metadata": {},
     "output_type": "execute_result"
    }
   ],
   "source": [
    "before"
   ]
  },
  {
   "cell_type": "code",
   "execution_count": 93,
   "metadata": {},
   "outputs": [
    {
     "data": {
      "text/plain": [
       "array([[[0.11892145, 0.17500293, 0.3901711 ],\n",
       "        [0.21121143, 0.20729412, 0.28089389],\n",
       "        [0.25613039, 0.22608724, 0.17870281]],\n",
       "\n",
       "       [[0.22269976, 0.17146623, 0.1894445 ],\n",
       "        [0.31268255, 0.22509241, 0.23573022],\n",
       "        [0.26251798, 0.23234398, 0.42925823]],\n",
       "\n",
       "       [[0.01015307, 0.17066599, 0.45283516],\n",
       "        [0.03906615, 0.20365696, 0.57097844],\n",
       "        [0.17494187, 0.28337374, 0.69392141]],\n",
       "\n",
       "       ...,\n",
       "\n",
       "       [[0.19061793, 0.13519748, 0.05132251],\n",
       "        [0.24261244, 0.18938914, 0.12899655],\n",
       "        [0.31676749, 0.38516573, 0.54867434]],\n",
       "\n",
       "       [[0.16169265, 0.18835452, 0.21336357],\n",
       "        [0.22086909, 0.27005811, 0.34224529],\n",
       "        [0.2891441 , 0.35523827, 0.52331708]],\n",
       "\n",
       "       [[0.04322936, 0.09955673, 0.23461254],\n",
       "        [0.08467439, 0.12421868, 0.24783859],\n",
       "        [0.26698382, 0.28314544, 0.4560421 ]]])"
      ]
     },
     "execution_count": 93,
     "metadata": {},
     "output_type": "execute_result"
    }
   ],
   "source": [
    "after"
   ]
  },
  {
   "cell_type": "markdown",
   "metadata": {},
   "source": [
    "Want to show input after, is recovered to output before"
   ]
  },
  {
   "cell_type": "code",
   "execution_count": 94,
   "metadata": {},
   "outputs": [
    {
     "data": {
      "text/plain": [
       "<matplotlib.image.AxesImage at 0x13028db10>"
      ]
     },
     "execution_count": 94,
     "metadata": {},
     "output_type": "execute_result"
    },
    {
     "data": {
      "image/png": "[encoded data removed]",
      "text/plain": [
       "<Figure size 640x480 with 1 Axes>"
      ]
     },
     "metadata": {},
     "output_type": "display_data"
    },
    {
     "data": {
      "image/png": "[encoded data removed]",
      "text/plain": [
       "<Figure size 640x480 with 1 Axes>"
      ]
     },
     "metadata": {},
     "output_type": "display_data"
    }
   ],
   "source": [
    "plt.figure(0)\n",
    "plot_idx = 1\n",
    "plt.imshow(before[plot_idx])\n",
    "plt.figure(1)\n",
    "plt.imshow(after[plot_idx])\n",
    "###plt \n",
    "\n",
    "###plt.quiver로 화살표 만들어보기"
   ]
  },
  {
   "cell_type": "code",
   "execution_count": null,
   "metadata": {},
   "outputs": [],
   "source": []
  }
 ],
 "metadata": {
  "kernelspec": {
   "display_name": "kl",
   "language": "python",
   "name": "python3"
  },
  "language_info": {
   "codemirror_mode": {
    "name": "ipython",
    "version": 3
   },
   "file_extension": ".py",
   "mimetype": "text/x-python",
   "name": "python",
   "nbconvert_exporter": "python",
   "pygments_lexer": "ipython3",
   "version": "3.10.12"
  },
  "orig_nbformat": 4
 },
 "nbformat": 4,
 "nbformat_minor": 2
}
